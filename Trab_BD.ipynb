{
 "cells": [
  {
   "cell_type": "code",
   "execution_count": 1,
   "metadata": {},
   "outputs": [],
   "source": [
    "import sqlite3"
   ]
  },
  {
   "cell_type": "code",
   "execution_count": 1,
   "metadata": {},
   "outputs": [
    {
     "ename": "NameError",
     "evalue": "name 'sqlite3' is not defined",
     "output_type": "error",
     "traceback": [
      "\u001b[1;31m---------------------------------------------------------------------------\u001b[0m",
      "\u001b[1;31mNameError\u001b[0m                                 Traceback (most recent call last)",
      "\u001b[1;32m<ipython-input-1-200d29973dd2>\u001b[0m in \u001b[0;36m<module>\u001b[1;34m\u001b[0m\n\u001b[1;32m----> 1\u001b[1;33m \u001b[0mconnection\u001b[0m \u001b[1;33m=\u001b[0m \u001b[0msqlite3\u001b[0m\u001b[1;33m.\u001b[0m\u001b[0mconnect\u001b[0m\u001b[1;33m(\u001b[0m\u001b[1;34m'tabela.db'\u001b[0m\u001b[1;33m)\u001b[0m\u001b[1;33m\u001b[0m\u001b[1;33m\u001b[0m\u001b[0m\n\u001b[0m\u001b[0;32m      2\u001b[0m \u001b[1;33m\u001b[0m\u001b[0m\n\u001b[0;32m      3\u001b[0m \u001b[0mcr\u001b[0m \u001b[1;33m=\u001b[0m \u001b[0mconnection\u001b[0m\u001b[1;33m.\u001b[0m\u001b[0mcursor\u001b[0m\u001b[1;33m(\u001b[0m\u001b[1;33m)\u001b[0m\u001b[1;33m\u001b[0m\u001b[1;33m\u001b[0m\u001b[0m\n\u001b[0;32m      4\u001b[0m \u001b[1;33m\u001b[0m\u001b[0m\n\u001b[0;32m      5\u001b[0m sql_command = \"\"\"CREATE TABLE Cliente (  \n",
      "\u001b[1;31mNameError\u001b[0m: name 'sqlite3' is not defined"
     ]
    }
   ],
   "source": [
    "connection = sqlite3.connect('tabela.db')\n",
    "\n",
    "cr = connection.cursor()\n",
    "\n",
    "sql_command = \"\"\"CREATE TABLE Cliente (  \n",
    "CPF NUMERIC(12,0) PRIMARY KEY,  \n",
    "Nome VARCHAR(30) NOT NULL,  \n",
    "Sexo CHAR(1) NOT NULL,  \n",
    "Telefone VARCHAR(15) NOT NULL,\n",
    "Email VARCHAR(40) NOT NULL,\n",
    "Nascimento DATE NOT NULL);\"\"\"\n",
    "\n",
    "cr.execute(sql_command)\n",
    "\n",
    "sql_command = \"\"\"CREATE TABLE Loja (  \n",
    "LID NUMERIC(12,0) PRIMARY KEY,  \n",
    "Tipo VARCHAR(30) NOT NULL,  \n",
    "NomeLoja VARCHAR(30) NOT NULL,  \n",
    "Endereco VARCAR(40) NOT NULL,\n",
    "Telefone VARCHAR(15) NOT NULL,\n",
    "PosicaoX NUMERIC(3,2) NOT NULL,\n",
    "PosicaoY NUMERIC(3,2) NOT NULL);\"\"\"\n",
    "\n",
    "cr.execute(sql_command)\n",
    "\n",
    "sql_command = \"\"\"CREATE TABLE Produto (  \n",
    "ID NUMERIC(12,0) PRIMARY KEY,  \n",
    "NomeProduto VARCHAR(30) NOT NULL,  \n",
    "Categoria VARCHAR(30) NOT NULL,  \n",
    "Telefone NUMERIC(10,0) NOT NULL,\n",
    "Email VARCHAR(40) NOT NULL,\n",
    "Comprado CHAR(1) NOT NULL,\n",
    "Preco NUMERIC(4,2) NOT NULL,\n",
    "LojaID NUMERIC(12,0) NOT NULL,\n",
    "ClienteID NUMERIC(12,0),\n",
    "DataCompra DATE,\n",
    "HrCompra CHAR(5),\n",
    "FOREIGN KEY (ClienteID) REFERENCES Cliente (CPF),\n",
    "FOREIGN KEY (LojaID) REFERENCES Loja (LID));\"\"\"\n",
    "\n",
    "cr.execute(sql_command)\n",
    "\n",
    "connection.commit()\n",
    "\n",
    "connection.close()"
   ]
  },
  {
   "cell_type": "markdown",
   "metadata": {},
   "source": [
    "### Lista de Compra de Clientes"
   ]
  },
  {
   "cell_type": "code",
   "execution_count": null,
   "metadata": {},
   "outputs": [],
   "source": [
    "cpf = input('Qual CPF?')\n",
    "\n",
    "connection = sqlite3.connect('tabela.db')\n",
    "\n",
    "cr = connection.cursor()\n",
    "\n",
    "cr.execute(\"SELECT Nome, DataCompra, HrCompra, COUNT(DISTINCT ID) FROM Produto WHERE ClienteID=(?) GROUP BY Nome\", (cpf))\n",
    "\n",
    "res = cr.fetchall()\n",
    "\n",
    "for i in res:\n",
    "    print(i)"
   ]
  },
  {
   "cell_type": "markdown",
   "metadata": {},
   "source": [
    "### Atualizar lista de compra"
   ]
  },
  {
   "cell_type": "code",
   "execution_count": null,
   "metadata": {},
   "outputs": [],
   "source": [
    "cpf = input('CPF do comprador')\n",
    "\n",
    "ID = input('ID do produto comprado')\n",
    "\n",
    "hr = input('Hora da compra')\n",
    "\n",
    "data = input('Data da compra')\n",
    "\n",
    "connection = sqlite3.connect('tabela.db')\n",
    "\n",
    "cr = connection.cursor()\n",
    "\n",
    "cr.execute(\"UPDATE Produto SET ClienteID = (?), DataCompra = (?), HrCompra = (?) WHERE ID = (?)\", (cpf, data, hr, ID))\n",
    "\n",
    "connection.commit()\n"
   ]
  },
  {
   "cell_type": "markdown",
   "metadata": {},
   "source": [
    "### Localizar lojas"
   ]
  },
  {
   "cell_type": "code",
   "execution_count": null,
   "metadata": {},
   "outputs": [],
   "source": [
    "tip = input('Qual o tipo da loja?')\n",
    "\n",
    "r = input('Qual o raio aceitável')\n",
    "\n",
    "x = input('Coordenada x')\n",
    "\n",
    "y = input('Coordenada y')\n",
    "\n",
    "produto = input('Nome do produto')\n",
    "\n",
    "connection = sqlite3.connect('tabela.db')\n",
    "\n",
    "cr = connection.cursor()\n",
    "\n",
    "cr.execute(\"SELECT NomeLoja, Endereco FROM Loja NATURAL JOIN Produto WHERE (((?)*(?)) + ((?)*(?)) <= (?)) AND NomeProduto = (?) AND Tipo = (?)\", (x,x,y,y,r,produto,tip))\n",
    "\n",
    "connection.commit()"
   ]
  }
 ],
 "metadata": {
  "kernelspec": {
   "display_name": "Python 3",
   "language": "python",
   "name": "python3"
  },
  "language_info": {
   "codemirror_mode": {
    "name": "ipython",
    "version": 3
   },
   "file_extension": ".py",
   "mimetype": "text/x-python",
   "name": "python",
   "nbconvert_exporter": "python",
   "pygments_lexer": "ipython3",
   "version": "3.7.3"
  }
 },
 "nbformat": 4,
 "nbformat_minor": 2
}
